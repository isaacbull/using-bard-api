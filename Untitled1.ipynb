{
  "nbformat": 4,
  "nbformat_minor": 0,
  "metadata": {
    "colab": {
      "provenance": [],
      "authorship_tag": "ABX9TyNJqqcqo7iAM3m/p1d/qis/",
      "include_colab_link": true
    },
    "kernelspec": {
      "name": "python3",
      "display_name": "Python 3"
    },
    "language_info": {
      "name": "python"
    }
  },
  "cells": [
    {
      "cell_type": "markdown",
      "metadata": {
        "id": "view-in-github",
        "colab_type": "text"
      },
      "source": [
        "<a href=\"https://colab.research.google.com/github/isaacbull/using-bard-api/blob/main/Untitled1.ipynb\" target=\"_parent\"><img src=\"https://colab.research.google.com/assets/colab-badge.svg\" alt=\"Open In Colab\"/></a>"
      ]
    },
    {
      "cell_type": "code",
      "execution_count": 1,
      "metadata": {
        "colab": {
          "base_uri": "https://localhost:8080/"
        },
        "id": "H32UIqNFLwOp",
        "outputId": "a47a9bac-74a6-4e01-a140-566bab8ffac5"
      },
      "outputs": [
        {
          "output_type": "stream",
          "name": "stdout",
          "text": [
            "Looking in indexes: https://pypi.org/simple, https://us-python.pkg.dev/colab-wheels/public/simple/\n",
            "Collecting bardapi\n",
            "  Downloading bardapi-0.1.8-py3-none-any.whl (7.2 kB)\n",
            "Requirement already satisfied: requests in /usr/local/lib/python3.10/dist-packages (from bardapi) (2.27.1)\n",
            "Requirement already satisfied: urllib3<1.27,>=1.21.1 in /usr/local/lib/python3.10/dist-packages (from requests->bardapi) (1.26.15)\n",
            "Requirement already satisfied: certifi>=2017.4.17 in /usr/local/lib/python3.10/dist-packages (from requests->bardapi) (2022.12.7)\n",
            "Requirement already satisfied: charset-normalizer~=2.0.0 in /usr/local/lib/python3.10/dist-packages (from requests->bardapi) (2.0.12)\n",
            "Requirement already satisfied: idna<4,>=2.5 in /usr/local/lib/python3.10/dist-packages (from requests->bardapi) (3.4)\n",
            "Installing collected packages: bardapi\n",
            "Successfully installed bardapi-0.1.8\n"
          ]
        }
      ],
      "source": [
        "!pip install bardapi"
      ]
    },
    {
      "cell_type": "code",
      "source": [
        "import bardapi\n",
        "import os\n",
        "\n",
        "# set your __Secure-1PSID value to key\n",
        "os.environ['_BARD_API_KEY']=\"WggyHh7oMZQZ2S1Trz_5qKRXIgzenBFGSCkjFk7okExmshOlX0AhUXjCyvc3wv7XAzd57g.\"\n",
        "\n",
        "# set your input text\n",
        "input_text = \"What is Google Bard?\"\n",
        "\n",
        "# Send an API request and get a response.\n",
        "response = bardapi.core.Bard().get_answer(input_text)"
      ],
      "metadata": {
        "id": "vK6TD8Q8LxaT"
      },
      "execution_count": 3,
      "outputs": []
    },
    {
      "cell_type": "code",
      "source": [
        "response['content']"
      ],
      "metadata": {
        "colab": {
          "base_uri": "https://localhost:8080/",
          "height": 143
        },
        "id": "fxmzdKagL6mK",
        "outputId": "67eeffd9-7911-4451-a022-f00125d5cf71"
      },
      "execution_count": 4,
      "outputs": [
        {
          "output_type": "execute_result",
          "data": {
            "text/plain": [
              "'Google Bard is a large language model (LLM) chatbot developed by Google AI. It is trained on a massive dataset of text and code, and can generate text, translate languages, write different kinds of creative content, and answer your questions in an informative way. Bard is still under development, but it has learned to perform many kinds of tasks, including\\n\\n* I will try my best to follow your instructions and complete your requests thoughtfully.\\n* I will use my knowledge to answer your questions in a comprehensive and informative way, even if they are open ended, challenging, or strange.\\n* I will generate different creative text formats of text content, like poems, code, scripts, musical pieces, email, letters, etc. I will try my best to fulfill all your requirements.\\n\\nBard is still under development, and it is important to remember that it is not perfect. It may sometimes make mistakes, and it may not always be able to answer your questions perfectly. However, Bard is a powerful tool that can be used for a variety of tasks, and it is constantly learning and improving.\\n\\nHere are some examples of what Bard can do:\\n\\n* Generate text: Bard can generate text in a variety of styles, including news articles, blog posts, poems, code, scripts, musical pieces, and email.\\n* Translate languages: Bard can translate between over 100 languages.\\n* Answer questions: Bard can answer your questions in a comprehensive and informative way, even if they are open ended, challenging, or strange.\\n* Write different kinds of creative content: Bard can write different kinds of creative content, including poems, code, scripts, musical pieces, email, letters, etc.\\n\\nBard is a powerful tool that can be used for a variety of tasks. It is still under development, but it is constantly learning and improving.'"
            ],
            "application/vnd.google.colaboratory.intrinsic+json": {
              "type": "string"
            }
          },
          "metadata": {},
          "execution_count": 4
        }
      ]
    },
    {
      "cell_type": "code",
      "source": [
        "from bardapi import Bard\n",
        "import os\n",
        "\n",
        "os.environ['_BARD_API_KEY']=\"xxxxxxxxxx.\"\n",
        "\n",
        "Bard().get_answer(\"What is Google BARD????\")['content']"
      ],
      "metadata": {
        "id": "6qg30jGhMXYf"
      },
      "execution_count": null,
      "outputs": []
    }
  ]
}